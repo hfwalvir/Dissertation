{
  "nbformat": 4,
  "nbformat_minor": 0,
  "metadata": {
    "colab": {
      "provenance": [],
      "authorship_tag": "ABX9TyOHIRddnOqkcAH5+j76/fqJ",
      "include_colab_link": true
    },
    "kernelspec": {
      "name": "python3",
      "display_name": "Python 3"
    },
    "language_info": {
      "name": "python"
    }
  },
  "cells": [
    {
      "cell_type": "markdown",
      "metadata": {
        "id": "view-in-github",
        "colab_type": "text"
      },
      "source": [
        "<a href=\"https://colab.research.google.com/github/hfwalvir/Dissertation/blob/main/Symmetric_key.ipynb\" target=\"_parent\"><img src=\"https://colab.research.google.com/assets/colab-badge.svg\" alt=\"Open In Colab\"/></a>"
      ]
    },
    {
      "cell_type": "code",
      "execution_count": null,
      "metadata": {
        "colab": {
          "base_uri": "https://localhost:8080/"
        },
        "id": "JN7FqJGwlQzp",
        "outputId": "79df997e-797b-4583-dfab-620565b5dbf1"
      },
      "outputs": [
        {
          "output_type": "stream",
          "name": "stdout",
          "text": [
            "Requirement already satisfied: cryptography in /usr/local/lib/python3.10/dist-packages (43.0.0)\n",
            "Requirement already satisfied: cffi>=1.12 in /usr/local/lib/python3.10/dist-packages (from cryptography) (1.17.0)\n",
            "Requirement already satisfied: pycparser in /usr/local/lib/python3.10/dist-packages (from cffi>=1.12->cryptography) (2.22)\n"
          ]
        }
      ],
      "source": [
        "!pip install cryptography\n",
        "\n"
      ]
    },
    {
      "cell_type": "code",
      "source": [
        "from cryptography.fernet import Fernet\n",
        "import pandas as pd\n",
        "\n",
        "#Data Extracted from AALI's Balance Sheet\n",
        "data = {\n",
        "    'symbol': ['AALI', 'AALI', 'AALI', 'AALI', 'AALI'],\n",
        "    'account': ['Accounts Payable', 'Accounts Receivable', 'Accumulated Depreciation', 'Additional Paid In Capital', 'Allowance For Doubtful Accounts Receivable'],\n",
        "    'type': ['BS', 'BS', 'BS', 'BS', 'BS'],\n",
        "    '2020': [770264000000,  765849000000, 10920950000000, 3878995000000,-24261000000],\n",
        "    '2021': [1026717000000 , 458135000000, -12133810000000, 3878995000000, -24543000000],\n",
        "    '2022': [1224423000000 , 848770000000,-13303750000000,3878995000000,-27057000000],\n",
        "    '2023': [842064000000,674487000000, -14436850000000, 3878995000000, -26516000000]\n",
        "}\n",
        "\n",
        "df = pd.DataFrame(data)\n",
        "\n",
        "# Step 1: AALI generates a symmetric key and encrypts its data\n",
        "aali_symmetric_key = Fernet.generate_key()\n",
        "aali_fernet = Fernet(aali_symmetric_key)\n",
        "encrypted_data = aali_fernet.encrypt(df.to_json().encode())\n",
        "\n",
        "# Step 2: AALI generates another symmetric key to encrypt the copy of the first symmetric key\n",
        "key_encryption_key = Fernet.generate_key()\n",
        "key_encryption_key_copy = bytes(key_encryption_key)  # Create a copy of the key encryption key\n",
        "key_fernet = Fernet(key_encryption_key)\n",
        "\n",
        "# Step 3: AALI encrypts a copy of its symmetric key\n",
        "encrypted_symmetric_key = key_fernet.encrypt(aali_symmetric_key)\n",
        "\n",
        "# Save the encrypted data and symmetric key to text files\n",
        "with open('encrypted_data.txt', 'wb') as file:\n",
        "    file.write(encrypted_data)\n",
        "\n",
        "with open('encrypted_symmetric_key.txt', 'wb') as file:\n",
        "    file.write(encrypted_symmetric_key)\n",
        "\n",
        "with open('key_encryption_key.txt', 'wb') as file:\n",
        "    file.write(key_encryption_key)\n",
        "\n",
        "# Step 4: ABDA decrypts the encrypted symmetric key\n",
        "abda_key_fernet = Fernet(key_encryption_key_copy)\n",
        "decrypted_symmetric_key = abda_key_fernet.decrypt(encrypted_symmetric_key)\n",
        "\n",
        "# Step 5: ABDA uses the decrypted symmetric key to decrypt AALI's data\n",
        "abda_fernet = Fernet(decrypted_symmetric_key)\n",
        "decrypted_data = abda_fernet.decrypt(encrypted_data)\n",
        "\n",
        "# Convert decrypted data to json format\n",
        "decrypted_df = pd.read_json(decrypted_data.decode())\n",
        "\n",
        "print(\"Original data:\")\n",
        "print(df)\n",
        "print(\"\\nDecrypted data:\")\n",
        "print(decrypted_df)\n",
        "\n",
        "# Verify that the decrypted data matches the original\n",
        "if df.equals(decrypted_df):\n",
        "    print(\"\\nSuccessful encryption and decryption: The decrypted data matches the original.\")\n",
        "else:\n",
        "    print(\"\\nError: The decrypted data does not match the original.\")\n",
        "\n",
        "    # If they don't match, check each column for discrepancies\n",
        "    for column in df.columns:\n",
        "        if not df[column].equals(decrypted_df[column]):\n",
        "            print(f\"Discrepancy found in column: {column}\")\n",
        "            print(\"Original:\", df[column])\n",
        "            print(\"Decrypted:\", decrypted_df[column])\n",
        "            print()"
      ],
      "metadata": {
        "colab": {
          "base_uri": "https://localhost:8080/"
        },
        "id": "bmlzcPIQlZjS",
        "outputId": "2af28b73-de4f-4848-e5a3-e43d99dc3831"
      },
      "execution_count": null,
      "outputs": [
        {
          "output_type": "stream",
          "name": "stdout",
          "text": [
            "Original data:\n",
            "  symbol                                     account type            2020  \\\n",
            "0   AALI                            Accounts Payable   BS    770264000000   \n",
            "1   AALI                         Accounts Receivable   BS    765849000000   \n",
            "2   AALI                    Accumulated Depreciation   BS  10920950000000   \n",
            "3   AALI                  Additional Paid In Capital   BS   3878995000000   \n",
            "4   AALI  Allowance For Doubtful Accounts Receivable   BS    -24261000000   \n",
            "\n",
            "             2021            2022            2023  \n",
            "0   1026717000000   1224423000000    842064000000  \n",
            "1    458135000000    848770000000    674487000000  \n",
            "2 -12133810000000 -13303750000000 -14436850000000  \n",
            "3   3878995000000   3878995000000   3878995000000  \n",
            "4    -24543000000    -27057000000    -26516000000  \n",
            "\n",
            "Decrypted data:\n",
            "  symbol                                     account type            2020  \\\n",
            "0   AALI                            Accounts Payable   BS    770264000000   \n",
            "1   AALI                         Accounts Receivable   BS    765849000000   \n",
            "2   AALI                    Accumulated Depreciation   BS  10920950000000   \n",
            "3   AALI                  Additional Paid In Capital   BS   3878995000000   \n",
            "4   AALI  Allowance For Doubtful Accounts Receivable   BS    -24261000000   \n",
            "\n",
            "             2021            2022            2023  \n",
            "0   1026717000000   1224423000000    842064000000  \n",
            "1    458135000000    848770000000    674487000000  \n",
            "2 -12133810000000 -13303750000000 -14436850000000  \n",
            "3   3878995000000   3878995000000   3878995000000  \n",
            "4    -24543000000    -27057000000    -26516000000  \n",
            "\n",
            "Successful encryption and decryption: The decrypted data matches the original.\n"
          ]
        },
        {
          "output_type": "stream",
          "name": "stderr",
          "text": [
            "<ipython-input-5-dea629fcbb2f>:49: FutureWarning: Passing literal json to 'read_json' is deprecated and will be removed in a future version. To read from a literal string, wrap it in a 'StringIO' object.\n",
            "  decrypted_df = pd.read_json(decrypted_data.decode())\n"
          ]
        }
      ]
    },
    {
      "cell_type": "code",
      "source": [],
      "metadata": {
        "id": "gSaZ5rMYlqqF"
      },
      "execution_count": null,
      "outputs": []
    }
  ]
}